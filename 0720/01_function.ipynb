{
 "cells": [
  {
   "cell_type": "markdown",
   "metadata": {},
   "source": [
    "# 함수\n",
    "\n",
    "입력으로 (재료) 데이터, 값을 주고 값을 처리(몸체, 기능) 한 다음에 결과를 반환하는 코드 조각,모음\n",
    "\n",
    "특정한 기능들을 수행하는 코드들을 모아서 함수로 정의한 다음에\n",
    "다음에 똑같은 기능을 수행하는 코드들이 필요할때 함수를 사용해서 코드를 다시 쓰는(중복 xx)일을 줄일수 있다 ===> 코드의 재사용을 위해서 함수를 사용한다.\n",
    "\n",
    "추상화 ===> 자세한 구현은 몰라도 특징적인 키워드 ,기능, 이름을 통해서 함수가 하는 일을 알수 있게 한다. \n",
    "\n",
    "다른사람이 내가 작성한 함수를 사용할때 기능이 자세하게 어떻게 동작하는지 몰라도 함수의 이름을 통해서 함수가 어떤 기능을 하는지 알 수 있다.\n",
    "\n",
    "print() ==> 파이썬 내부에서 어떻게 동작을 하는지는 모른다.\n",
    "==> 콘솔에 우리가 원하는 데이터를 출력해주는 함수이다.\n",
    "\n",
    "-함수를 정의한다.(생성한다.) : 함수를 생성할떄는 def 라는 키워드를 사용한다.\n",
    "    - def 함수이름(매개변수) :\n",
    "    - 함수이름은 변수명 규칙과 동일한 규칙으로 작성할수 있다. (예약어 사용할수 없다.)"
   ]
  },
  {
   "cell_type": "code",
   "execution_count": 1,
   "metadata": {},
   "outputs": [],
   "source": [
    "def do_nothing():\n",
    "    pass # 아무일도 하지 않는다. 라는 것을 나타내는 키워드\n",
    "    # 책에서 의도적으로 빈공간을 남기는 것처럼 아무일도 하지 않고 한 줄만 차지하는 코드\n",
    "    # 일단 함수의 뼈대만 만들어 놓고 구현은 나중에 하겠다고 사용하기도 한다.\n",
    "    # 들여쓰기가 되어 있다면 함수의 범위(scope)\n",
    "# 들여쓰기를 하지 않게 되면 함수의 범위(scope)를 벗어났다."
   ]
  },
  {
   "cell_type": "code",
   "execution_count": 2,
   "metadata": {},
   "outputs": [],
   "source": [
    "# 함수 호출\n",
    "do_nothing()"
   ]
  },
  {
   "cell_type": "markdown",
   "metadata": {},
   "source": [
    "## 인수를 받는 함수를 생성\n",
    "\n",
    "## 인수 매개변수\n",
    "\n",
    "매개변수(파라미터 Parameter) : 함수 정의시 사용하는 이름, 함수 내부에서 사용\n",
    "인수(아규먼트 Argument) : 함수 호출시(사용시) 사용하는 이름, 함수 외부에서 사용\n",
    "\n",
    "함수로 전달한 값을 인수라고 부른다.\n",
    "함수 내부에서 전달한 값을 사용할때 파라미터 라고 부른다."
   ]
  },
  {
   "cell_type": "code",
   "execution_count": 3,
   "metadata": {},
   "outputs": [
    {
     "data": {
      "text/plain": [
       "'이것은 문자열'"
      ]
     },
     "execution_count": 3,
     "metadata": {},
     "output_type": "execute_result"
    }
   ],
   "source": [
    "def echo(string): # string == 파라미터\n",
    "    return string # 함수 내부에서 파라미터를 사용한다.\n",
    "\n",
    "str1 = \"이것은 문자열\"\n",
    "\n",
    "echo(str1) # str1 == 인수 , argument 아규먼트"
   ]
  },
  {
   "cell_type": "markdown",
   "metadata": {},
   "source": [
    "### 위치 인수\n",
    "\n",
    "기본적으로 함수 호출시 인수는 위치에 따라 함수 내부에 전달된다.  \n",
    "인수를 함수 호출할때 사용하려면 인수의 위치에 따른 함수 내부에서의 의미를 꼭 알고 있어야 한다.\n",
    "각 위치의 의미를 알아야 한다.\n",
    "\n",
    "- 단점\n",
    "첫번째 인수는 어떤역할을 한다, 두번째 인수는 다른 역할을 한다. 라는 것을 우리가 알고 있는 상태에서\n",
    "함수를 호출해야 한다."
   ]
  },
  {
   "cell_type": "code",
   "execution_count": 5,
   "metadata": {},
   "outputs": [
    {
     "name": "stdout",
     "output_type": "stream",
     "text": [
      "{'음료': '콜라', '메인음식': '치킨', '디저트': '도넛'}\n",
      "<class 'dict'>\n",
      "{'음료': '스테이크', '메인음식': '와인', '디저트': '푸딩'}\n"
     ]
    }
   ],
   "source": [
    "def menu(drink, entree, dessert):\n",
    "    return { \"음료\":drink , \"메인음식\" : entree, \"디저트\" : dessert } # 딕셔너리를 반환\n",
    "\n",
    "today_menu = menu(\"콜라\" , \"치킨\" , \"도넛\") # menu 라는 함수의 결과를 today_menu라는 변수에 저장\n",
    "print(today_menu)\n",
    "print(type(today_menu))\n",
    "\n",
    "yesterday_menu = menu(\"스테이크\" , \"와인\" , \"푸딩\") # 위치 인수는 인수의 순서가 바뀌게 되면 의도하지 않은 결과가 발생하게 된다.\n",
    "# 해당 함수의 인수의 위치에 대해서 잘 알고 있어야 함수를 제대로 동작시킬수 있다.\n",
    "print(yesterday_menu)\n"
   ]
  },
  {
   "cell_type": "markdown",
   "metadata": {},
   "source": [
    "### 키워드 인수\n",
    "\n",
    "위치 인수의 혼란을 피하기 위해서 매개변수에 상응하는(알맞은) 이름을 인수에 지정한다.\n",
    "!!!!! 순서가 달라도 제대로 동작한다!!!!!!\n",
    "\n",
    "인수를 딕셔너리처럼 전달한다 ==> 키워드"
   ]
  },
  {
   "cell_type": "code",
   "execution_count": 7,
   "metadata": {},
   "outputs": [
    {
     "name": "stdout",
     "output_type": "stream",
     "text": [
      "{'음료': '와인', '메인음식': '스테이크', '디저트': '푸딩'}\n",
      "{'음료': '콜라', '메인음식': '피자', '디저트': '치즈볼'}\n"
     ]
    }
   ],
   "source": [
    "# 키워드 인수를 통한 함수 호출\n",
    "today_menu = menu(entree=\"스테이크\" , drink=\"와인\" , dessert=\"푸딩\")\n",
    "print(today_menu)\n",
    "\n",
    "# 위치인수와 키워드인수는 섞어쓰기 가능\n",
    "print(menu(\"콜라\" , dessert=\"치즈볼\" , entree=\"피자\"))"
   ]
  },
  {
   "cell_type": "code",
   "execution_count": 8,
   "metadata": {},
   "outputs": [
    {
     "ename": "SyntaxError",
     "evalue": "positional argument follows keyword argument (2402665856.py, line 2)",
     "output_type": "error",
     "traceback": [
      "\u001b[1;36m  Input \u001b[1;32mIn [8]\u001b[1;36m\u001b[0m\n\u001b[1;33m    print(menu(dessert=\"치즈볼\" , \"콜라\" , \"피자\"))\u001b[0m\n\u001b[1;37m                                          ^\u001b[0m\n\u001b[1;31mSyntaxError\u001b[0m\u001b[1;31m:\u001b[0m positional argument follows keyword argument\n"
     ]
    }
   ],
   "source": [
    "# 위치인수와 키워드인수를 섞어쓸때는 반드시 키워드 인수는 위치 인수 뒤에 와야 한다.\n",
    "print(menu(dessert=\"치즈볼\" , \"콜라\" , \"피자\"))"
   ]
  },
  {
   "cell_type": "markdown",
   "metadata": {},
   "source": [
    "### 기본 인수 값을 지정해 줄수 있다.\n",
    "\n",
    "인수를 제공하지 않으면 함수를 정의할때 사용한 기본값을 사용하게 된다."
   ]
  },
  {
   "cell_type": "code",
   "execution_count": 12,
   "metadata": {},
   "outputs": [
    {
     "name": "stdout",
     "output_type": "stream",
     "text": [
      "5\n",
      "2\n"
     ]
    }
   ],
   "source": [
    "def add(x, y = -1): # 두번째 파라미터인 y에 인수로 값을 제공해주지 않으면 기본값으로 0을 사용하겠다.\n",
    "    return x+y\n",
    "\n",
    "print(add(2,3))\n",
    "print(add(3)) # 두번째 인수를 제공하지 않아서 기본값인 -1 을 사용하게 되었다."
   ]
  },
  {
   "cell_type": "markdown",
   "metadata": {},
   "source": [
    "정해지지 않은 여러개의 인수를 처리하는 방법\n",
    "\n",
    "애스터리스크 혹은 언패킹 연산자라고 불리는 *\n",
    "\n",
    "가변인자(*args) : 크기가 변하는 인자\n",
    "- 여러개의 위치인수를 하나의 파라미터로 받아서 사용\n",
    "- 함수를 호출할때 인수를 몇개를 받는지를 모르는 함수를 정의할때 유용하다.\n",
    "\n",
    "패킹 ? 언패킹 ? \n",
    "- 패킹 : 여러개의 데이터를 묶어서 하나의 변수에(컨테이너 : 리스트, 튜블, 딕셔너리..) 할당한다.\n",
    "- 언패킹 : 컨테이너 속의 요소들을 여러개의 변수에 나누어서 할당\n",
    "\n",
    "__ 패킹/언패킹 할시에 변수의 개수와 할당(분해)하고자 하는 컨테이너의 요소의 갯수가 동일해야한다.__"
   ]
  },
  {
   "cell_type": "code",
   "execution_count": 14,
   "metadata": {},
   "outputs": [
    {
     "name": "stdout",
     "output_type": "stream",
     "text": [
      "(1, 2, 3, 4, 5)\n",
      "1 2 3 4 5\n"
     ]
    }
   ],
   "source": [
    "numbers = (1,2,3,4,5)\n",
    "print(numbers)\n",
    "\n",
    "# 언패킹, 컨테이너에 들어가 있는 값을 분해해서 여러개의 변수에 할당\n",
    "a,b,c,d,e = numbers\n",
    "print(a,b,c,d,e)"
   ]
  },
  {
   "cell_type": "code",
   "execution_count": 15,
   "metadata": {},
   "outputs": [
    {
     "ename": "ValueError",
     "evalue": "too many values to unpack (expected 3)",
     "output_type": "error",
     "traceback": [
      "\u001b[1;31m---------------------------------------------------------------------------\u001b[0m",
      "\u001b[1;31mValueError\u001b[0m                                Traceback (most recent call last)",
      "\u001b[1;32mc:\\Users\\alstj\\OneDrive\\바탕 화면\\파이썬\\plus\\0720\\01_function.ipynb 셀 15\u001b[0m in \u001b[0;36m<cell line: 1>\u001b[1;34m()\u001b[0m\n\u001b[1;32m----> <a href='vscode-notebook-cell:/c%3A/Users/alstj/OneDrive/%EB%B0%94%ED%83%95%20%ED%99%94%EB%A9%B4/%ED%8C%8C%EC%9D%B4%EC%8D%AC/plus/0720/01_function.ipynb#ch0000019?line=0'>1</a>\u001b[0m a, b, c \u001b[39m=\u001b[39mnumbers\n",
      "\u001b[1;31mValueError\u001b[0m: too many values to unpack (expected 3)"
     ]
    }
   ],
   "source": [
    "a, b, c = numbers # numbers에는 5개나 되는 요소가 들어가 있으나 할당할 변수는 3개밖에 없다."
   ]
  },
  {
   "cell_type": "code",
   "execution_count": 16,
   "metadata": {},
   "outputs": [
    {
     "ename": "ValueError",
     "evalue": "not enough values to unpack (expected 7, got 5)",
     "output_type": "error",
     "traceback": [
      "\u001b[1;31m---------------------------------------------------------------------------\u001b[0m",
      "\u001b[1;31mValueError\u001b[0m                                Traceback (most recent call last)",
      "\u001b[1;32mc:\\Users\\alstj\\OneDrive\\바탕 화면\\파이썬\\plus\\0720\\01_function.ipynb 셀 16\u001b[0m in \u001b[0;36m<cell line: 1>\u001b[1;34m()\u001b[0m\n\u001b[1;32m----> <a href='vscode-notebook-cell:/c%3A/Users/alstj/OneDrive/%EB%B0%94%ED%83%95%20%ED%99%94%EB%A9%B4/%ED%8C%8C%EC%9D%B4%EC%8D%AC/plus/0720/01_function.ipynb#ch0000020?line=0'>1</a>\u001b[0m a,b,c,d,e,f,g \u001b[39m=\u001b[39m numbers\n",
      "\u001b[1;31mValueError\u001b[0m: not enough values to unpack (expected 7, got 5)"
     ]
    }
   ],
   "source": [
    "a,b,c,d,e,f,g = numbers # numbers에는 5개밖에 없는데, 할당하려고 하는 변수는 7개나 된다."
   ]
  },
  {
   "cell_type": "markdown",
   "metadata": {},
   "source": [
    "함수에서 패킹/언패킹 연산자 * 사용하기"
   ]
  },
  {
   "cell_type": "code",
   "execution_count": 17,
   "metadata": {},
   "outputs": [
    {
     "name": "stdout",
     "output_type": "stream",
     "text": [
      "(1, 2, 3, 4, 5, '6')\n",
      "<class 'tuple'>\n"
     ]
    }
   ],
   "source": [
    "def function(*args): \n",
    "    # args는 파라미터의 이름 * 이 붙어서 여러개로 들어온 파라미터들을 \n",
    "    # 하나로 묶어서 args 라는 이름으로 사용하겠다.\n",
    "    print(args)\n",
    "    print(type(args))\n",
    "\n",
    "function(1,2,3,4,5,'6')"
   ]
  },
  {
   "cell_type": "code",
   "execution_count": 18,
   "metadata": {},
   "outputs": [
    {
     "name": "stdout",
     "output_type": "stream",
     "text": [
      "6\n",
      "21\n",
      "45\n"
     ]
    }
   ],
   "source": [
    "# 총 합을 구하고 싶은데 합을 구하려고 하는 수의 갯수를 모른다.\n",
    "\n",
    "def sum_all(*numbers) : # numbers 에는 몇개가 인수로 전달될지 모르는 상황\n",
    "    # 총합을 구한다.\n",
    "    result = 0\n",
    "    for num in numbers: # numbers 에는 몇개가 있는지는 모르겠으나 값이 들어 있을것이다.\n",
    "        result += num\n",
    "    return result\n",
    "\n",
    "print(sum_all(1,2,3)) # 값이 3개\n",
    "print(sum_all(1,2,3,4,5,6)) # 값이 6개\n",
    "print(sum_all(1,2,3,4,5,6,7,8,9)) # 값이 9개"
   ]
  },
  {
   "cell_type": "code",
   "execution_count": 22,
   "metadata": {},
   "outputs": [
    {
     "name": "stdout",
     "output_type": "stream",
     "text": [
      "아버지 : 파더\n",
      "어머니 : 마더\n",
      "다른 사람들 : \n",
      "남동생\n",
      "누나\n"
     ]
    },
    {
     "ename": "TypeError",
     "evalue": "family() missing 1 required positional argument: 'mother'",
     "output_type": "error",
     "traceback": [
      "\u001b[1;31m---------------------------------------------------------------------------\u001b[0m",
      "\u001b[1;31mTypeError\u001b[0m                                 Traceback (most recent call last)",
      "\u001b[1;32mc:\\Users\\alstj\\OneDrive\\바탕 화면\\파이썬\\plus\\0720\\01_function.ipynb 셀 20\u001b[0m in \u001b[0;36m<cell line: 10>\u001b[1;34m()\u001b[0m\n\u001b[0;32m      <a href='vscode-notebook-cell:/c%3A/Users/alstj/OneDrive/%EB%B0%94%ED%83%95%20%ED%99%94%EB%A9%B4/%ED%8C%8C%EC%9D%B4%EC%8D%AC/plus/0720/01_function.ipynb#ch0000026?line=6'>7</a>\u001b[0m         \u001b[39mprint\u001b[39m(name)\n\u001b[0;32m      <a href='vscode-notebook-cell:/c%3A/Users/alstj/OneDrive/%EB%B0%94%ED%83%95%20%ED%99%94%EB%A9%B4/%ED%8C%8C%EC%9D%B4%EC%8D%AC/plus/0720/01_function.ipynb#ch0000026?line=8'>9</a>\u001b[0m family(\u001b[39m\"\u001b[39m\u001b[39m파더\u001b[39m\u001b[39m\"\u001b[39m , \u001b[39m\"\u001b[39m\u001b[39m마더\u001b[39m\u001b[39m\"\u001b[39m , \u001b[39m\"\u001b[39m\u001b[39m남동생\u001b[39m\u001b[39m\"\u001b[39m , \u001b[39m\"\u001b[39m\u001b[39m누나\u001b[39m\u001b[39m\"\u001b[39m)\n\u001b[1;32m---> <a href='vscode-notebook-cell:/c%3A/Users/alstj/OneDrive/%EB%B0%94%ED%83%95%20%ED%99%94%EB%A9%B4/%ED%8C%8C%EC%9D%B4%EC%8D%AC/plus/0720/01_function.ipynb#ch0000026?line=9'>10</a>\u001b[0m family(\u001b[39m\"\u001b[39;49m\u001b[39m파더\u001b[39;49m\u001b[39m\"\u001b[39;49m)\n",
      "\u001b[1;31mTypeError\u001b[0m: family() missing 1 required positional argument: 'mother'"
     ]
    }
   ],
   "source": [
    "# 가변인자는 혼용가능하다. 보통인자와 같이 사용할수 있다.\n",
    "def family(father, mother, *others):\n",
    "    print(\"아버지 : \" + father)\n",
    "    print(\"어머니 : \" + mother)\n",
    "    print(\"다른 사람들 : \")\n",
    "    for name in others: # 다른사람들이 몇명이 오든지간에 처리할수 있도록 반복문을 사용\n",
    "        print(name)\n",
    "\n",
    "family(\"파더\" , \"마더\" , \"남동생\" , \"누나\")\n",
    "family(\"파더\")"
   ]
  },
  {
   "cell_type": "markdown",
   "metadata": {},
   "source": [
    "가변 키워드 인자(**kwargs)\n",
    "\n",
    "키워드인자를 몇개를 입력받을지 모르는 상태에서 함수를 정의할때 사용한다.  \n",
    "키워드인자 **kwargs 딕셔너리처럼 묶어서 처리된다.  \n",
    "파라미터에 ** 를 사용한다.  "
   ]
  },
  {
   "cell_type": "code",
   "execution_count": 31,
   "metadata": {},
   "outputs": [
    {
     "name": "stdout",
     "output_type": "stream",
     "text": [
      "{'father': '아부지', 'mother': '아무니', 'son': '아들', 'son2': '둘째아들'}\n"
     ]
    }
   ],
   "source": [
    "def family(**kwargs): # 가변 키워드 인자는 딕셔너리처럼 사용이 가능하다.\n",
    "    result = {}\n",
    "    for key, value in kwargs.items(): # 딕셔너리의 (키,값) 쌍을 사용가능하다.\n",
    "        # return {key : value} # return 문장을 함수 내부에서 만나게 되면 바로 함수를 종료시킨다.\n",
    "        result.update({key : value}) # update 함수를 통해 딕셔너리를 계속 병합시킨다.\n",
    "    return result\n",
    "\n",
    "# family(father=\"아부지\" , mother=\"아무니\" , son=\"아들\")\n",
    "print(family(father=\"아부지\" , mother=\"아무니\" , son=\"아들\" , son2=\"둘째아들\"))\n"
   ]
  },
  {
   "cell_type": "markdown",
   "metadata": {},
   "source": [
    "## 파이썬의 범위 (Scope 스코프)\n",
    "\n",
    "LEGB??\n",
    "-L : Local scope : 지역범위\n",
    "-E : Enclosed scope : 지역 범위 한단계 위의 범위(global 범위는 아니다.)\n",
    "-G : Global scope : 최상단에 위치한범위 (파이썬 파일 전체 .py)\n",
    "-B : Built-in scope : 모든것을 담고있는 범위(정의하지 않아도 사용할수 있는 것들) \n",
    "\n",
    "print() \n",
    "\n",
    "def print(): 를 하지 않았지만 사용 가능한것들 ==> Built-in Scope\n"
   ]
  },
  {
   "cell_type": "code",
   "execution_count": 32,
   "metadata": {},
   "outputs": [
    {
     "name": "stdout",
     "output_type": "stream",
     "text": [
      "10 1 300\n",
      "10 1 3\n",
      "0 1\n"
     ]
    }
   ],
   "source": [
    "a = 0 # global scope\n",
    "b = 1 # global scope \n",
    "# globa scope 는 함수 내부에서 선언하지 않은 변수들이다.\n",
    "\n",
    "def enclosed():\n",
    "    a = 10\n",
    "    c = 3\n",
    "    def local(c):\n",
    "        print(a,b,c) # 10 1 300\n",
    "    local(300)\n",
    "    print(a,b,c) # 10 1 3\n",
    "\n",
    "enclosed()\n",
    "print(a,b) # 0 1"
   ]
  },
  {
   "cell_type": "markdown",
   "metadata": {},
   "source": [
    "저는 함수 안에서 함수 범위 밖의 변수를 수정하고 싶은데요??\n",
    "\n",
    "global 문 : 해당 식별자 이름이 global 범위에 존재한다.\n",
    "\n",
    "global 문을 사용해서 global 변수를 사용하겠다고 선언하기 전에   \n",
    "같은 이름을 이용해서 변수를 정의했다면 사용이 불가능  \n",
    "파라미터로 사용된 이름을 global로 선언하는것도 불가능  "
   ]
  },
  {
   "cell_type": "code",
   "execution_count": 36,
   "metadata": {},
   "outputs": [
    {
     "ename": "SyntaxError",
     "evalue": "name 'a' is parameter and global (1503776472.py, line 3)",
     "output_type": "error",
     "traceback": [
      "\u001b[1;36m  Input \u001b[1;32mIn [36]\u001b[1;36m\u001b[0m\n\u001b[1;33m    global a\u001b[0m\n\u001b[1;37m    ^\u001b[0m\n\u001b[1;31mSyntaxError\u001b[0m\u001b[1;31m:\u001b[0m name 'a' is parameter and global\n"
     ]
    }
   ],
   "source": [
    "a = 10\n",
    "def func1() :\n",
    "    global a\n",
    "    a = 15 # 함수 안에서 global scope에 있는 변수의 값을 바꾸고 싶어\n",
    "    print(a)\n",
    "\n",
    "func1()\n",
    "print(a)"
   ]
  },
  {
   "cell_type": "markdown",
   "metadata": {},
   "source": [
    "nonlocal\n",
    "\n",
    "global을 제외하고 가장 가까운(둘러싸고 있는, 들여쓰기로 구분된 scope의 변수를 연결하도록 한다.)  \n",
    "global과 마찬가지로 nonlocal 로 선언할 변수는 그 전에 (그위에서) 값을 할당하면 사용할수 없다.\n",
    "\n",
    "nonlocal 은 이름공간에 존재하는 변수만 사용가능하다.  \n",
    "global 은 해당 이름을 가진 변수를 생성한적이 없다면 새로 만든다.  \n",
    "nonlocal 은 새로 생성하지 않는다.  "
   ]
  },
  {
   "cell_type": "code",
   "execution_count": 37,
   "metadata": {},
   "outputs": [
    {
     "name": "stdout",
     "output_type": "stream",
     "text": [
      "3\n"
     ]
    }
   ],
   "source": [
    "def func1():\n",
    "    global out\n",
    "    out = 3\n",
    "\n",
    "# out 이라는 변수는 global scope에서 생성한적이 없다.\n",
    "func1()\n",
    "print(out)"
   ]
  },
  {
   "cell_type": "code",
   "execution_count": 39,
   "metadata": {},
   "outputs": [
    {
     "ename": "SyntaxError",
     "evalue": "no binding for nonlocal 'y' found (4128198347.py, line 5)",
     "output_type": "error",
     "traceback": [
      "\u001b[1;36m  Input \u001b[1;32mIn [39]\u001b[1;36m\u001b[0m\n\u001b[1;33m    nonlocal y # y라는 변수를 우리가 생성한적이 없다.\u001b[0m\n\u001b[1;37m    ^\u001b[0m\n\u001b[1;31mSyntaxError\u001b[0m\u001b[1;31m:\u001b[0m no binding for nonlocal 'y' found\n"
     ]
    }
   ],
   "source": [
    "# y = 10\n",
    "\n",
    "def func1():\n",
    "    def func2():\n",
    "        nonlocal y # y라는 변수를 우리가 생성한적이 없다. ==> 에러 발생\n",
    "        y = 2\n",
    "    func2()\n",
    "\n",
    "func1()"
   ]
  },
  {
   "cell_type": "markdown",
   "metadata": {},
   "source": [
    "함수에서 선언된 변수는 기본적으로 local scope이다.  \n",
    "함수가 종료되면 사라지는 순간적인(휘발성) 데이터 값  \n",
    "함수가 끝나면 (호출이 끝나면) 다시 사용할 수 없는 값이다.  \n",
    "\n",
    "해당 scope에 변수가 존재하지 않을 경우, L-E-G-B 순으로 이름을 검색한다.\n",
    "대신 수정은 불가능한데 , global , nonlocal 키워드를 통해 할 수는 있다.\n",
    "- 코드가 복잡해지고 , 변수 이름 추적이 어려워지기 때문에 사용 지양  \n",
    "- argument , return 값을 이용해서 그역할을 대신 코드로 구현해서 사용  "
   ]
  }
 ],
 "metadata": {
  "kernelspec": {
   "display_name": "Python 3.10.0 64-bit",
   "language": "python",
   "name": "python3"
  },
  "language_info": {
   "codemirror_mode": {
    "name": "ipython",
    "version": 3
   },
   "file_extension": ".py",
   "mimetype": "text/x-python",
   "name": "python",
   "nbconvert_exporter": "python",
   "pygments_lexer": "ipython3",
   "version": "3.10.0"
  },
  "orig_nbformat": 4,
  "vscode": {
   "interpreter": {
    "hash": "369f2c481f4da34e4445cda3fffd2e751bd1c4d706f27375911949ba6bb62e1c"
   }
  }
 },
 "nbformat": 4,
 "nbformat_minor": 2
}
