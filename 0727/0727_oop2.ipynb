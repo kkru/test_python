{
 "cells": [
  {
   "cell_type": "markdown",
   "metadata": {},
   "source": [
    "## 객체지향 프로그래밍\n",
    "\n",
    "프로그래밍을 하는 방법중 하나.  \n",
    "\n",
    "- 장점\n",
    "  - 클래스 단위로 모듈화 시켜서 개발할 수 있다. (관련이 있는 코드들을 묶어서 클래스로 표현한다.)\n",
    "  - 사용자 정의 자료구조처럼 사용한다.\n",
    "  - 프로그램의 유지보수가 쉬워진다.\n",
    "- 단점\n",
    "  - 설계시 많은 노력과 시간이 필요하다.\n",
    "  - 실행속도가 상대적으로 느리다.\n",
    "\n",
    "현실세계를 프로그램 설계에 반영하는 방법이다.\n",
    "\n",
    "사물들을 객체로 표현해서 프로그래밍을 하는 방법\n",
    "\n",
    "## 객체\n",
    "\n",
    "속성과 행동으로 구성된 모든 것들  \n",
    "\n",
    "속성 : 객체를 표현할수 있는 특징  (변수)  \n",
    "\n",
    "행동 : 객체가 동작하는 것 (메서드)  \n",
    "\n",
    "가수를 객체로 만든다.\n",
    "가수를 나타내는 속성 : 가수의 이름, 가수의 대표곡  \n",
    "가수가 하는 행동 : 노래하기, 랩하기, 춤추기\n",
    "\n",
    "### 클래스와 객체\n",
    "\n",
    "클래스 : 객체를 어떻게 만들어야 하는지 설명되어있는 설계도  \n",
    "(객체의 구성이 어떻게 되어있는지를 설명한다. )  \n",
    "객체의 속성이 어떤것들이 있는지...  \n",
    "객체가 하는 행동들이 무엇이 있는지...  \n",
    "\n",
    "가수라는 클래스를 만들겠다.  \n",
    "가수의 속성 : 이름, 대표곡  \n",
    "가수의 행동 : 노래하기  \n",
    "\n",
    "객체 : 설계도(클래스)를 통해서 실제로 만들어낸 사례  \n",
    "임재범 가수 (실재로 존재)  \n",
    "이름 : 임재범  \n",
    "대표곡 : 너를위해  \n",
    "행동 : 노래하기  \n",
    "\n",
    "## 인스턴스\n",
    "임재범은 객체다(o)\n",
    "임재범은 인스턴스다(x)\n",
    "임재범은 가수라는 클래스의 인스턴스다(o)\n",
    "\n",
    "자동차 클래스\n",
    "\n",
    "소나타 객체다(o)\n",
    "소나타는 인스턴스다(x)\n",
    "소나타는 자동차라는 클래스의 인스턴스다(o)"
   ]
  },
  {
   "cell_type": "markdown",
   "metadata": {},
   "source": [
    "클래스를 정의하는 방법  \n",
    "\n",
    "class 클래스이름:\n",
    "    # 들여쓰기를 해서 클래스 범위의 코드를 작성"
   ]
  },
  {
   "cell_type": "code",
   "execution_count": null,
   "metadata": {},
   "outputs": [],
   "source": [
    "# Person 이라는 이름을 가진 클래스\n",
    "class Person:\n",
    "    pass\n",
    "\n",
    "person1 = Person() # 클래스(설계도)를 통해 객체\n",
    "# person1 은 Person 클래스의 인스턴스다."
   ]
  },
  {
   "cell_type": "markdown",
   "metadata": {},
   "source": [
    "## 객체라고 하는것은 속성과 행동\n",
    "\n",
    "속성에 해당하는 클래스의 변수\n",
    "\n",
    "두가지 종류  \n",
    "1. 클래스변수(모든 객체들이 공통으로 가지고 있는 속성)\n",
    "2. 인스턴스변수(인스턴스마다 다르게 가지고 있는 속성)\n",
    "\n",
    "class Car:\n",
    "\n",
    "소나타 : 바퀴가 4개, 이름은 소나타  \n",
    "그랜저 : 바퀴가 4개, 이름은 그랜저  \n",
    "아반떼 : 바퀴가 4개, 이름은 아반떼  \n",
    "\n",
    "바퀴 : 클래스 변수  \n",
    "이름 : 인스턴스 변수  "
   ]
  },
  {
   "cell_type": "code",
   "execution_count": 4,
   "metadata": {},
   "outputs": [
    {
     "name": "stdout",
     "output_type": "stream",
     "text": [
      "4\n",
      "4\n",
      "4\n",
      "-------\n",
      "아반떼\n",
      "소나타\n",
      "그랜저\n"
     ]
    }
   ],
   "source": [
    "class Car:\n",
    "    tire = 4 # 클래스 변수\n",
    "\n",
    "    def __init__(self, name): # self => 인스턴스 자기 자신을 뜻하는 파라미터\n",
    "        # __init__ : 클래스를 통해 인스턴스를 만들때 무조건 실행되는 메소드\n",
    "        self.name = name # 인스턴스 변수를 생성 \n",
    "\n",
    "car1 = Car(\"아반떼\")\n",
    "car2 = Car(\"소나타\")\n",
    "car3 = Car(\"그랜저\")\n",
    "\n",
    "print(car1.tire)\n",
    "print(car2.tire)\n",
    "print(car3.tire)\n",
    "print(\"-------\")\n",
    "print(car1.name)\n",
    "print(car2.name)\n",
    "print(car3.name)"
   ]
  },
  {
   "cell_type": "code",
   "execution_count": 11,
   "metadata": {},
   "outputs": [
    {
     "name": "stdout",
     "output_type": "stream",
     "text": [
      "2\n",
      "2\n",
      "6\n",
      "2\n",
      "--------\n",
      "6\n",
      "4\n",
      "--------\n",
      "4\n",
      "4\n",
      "100\n"
     ]
    }
   ],
   "source": [
    "a_car = Car(\"소나타\")\n",
    "b_car = Car(\"아반떼\")\n",
    "\n",
    "# 클래스 변수를 수정하고싶다.\n",
    "# 클래스 변수는 반드시 클래스의 이름을 통해 접근해서 수정한다.\n",
    "Car.tire = 2\n",
    "print(a_car.tire)\n",
    "print(b_car.tire)\n",
    "\n",
    "# 만약에 클래스 이름이 아니라 인스턴스의(변수) 이름을 가지고 변경\n",
    "a_car.tire = 6 # a_car 안에 tire 라는 이름을 가진 새로운 인스턴스 변수를 생성하고, 값을 할당\n",
    "print(a_car.tire)\n",
    "print(b_car.tire)\n",
    "\n",
    "# 클래스 변수를 수정할때는 반드시 클래스 이름을 통해서 접근\n",
    "Car.tire = 4\n",
    "print(\"--------\")\n",
    "print(a_car.tire)\n",
    "print(b_car.tire)\n",
    "\n",
    "del a_car.tire # a_car 의 인스턴스 변수 tire를 삭제\n",
    "print(\"--------\")\n",
    "print(a_car.tire) \n",
    "print(b_car.tire)\n",
    "\n",
    "a_car.speed = 100\n",
    "print(a_car.speed)"
   ]
  },
  {
   "cell_type": "markdown",
   "metadata": {},
   "source": [
    "## 메서드(동작, 행동)\n",
    "\n",
    "1. 인스턴스메서드\n",
    "   1. 인스턴스 변수를 사용하거나 인스턴스 변수에 값을 설정할수 있는 메서드\n",
    "   2. 대부분의 클래스 안에 있는 메서드들이 인스턴스 메서드이다.\n",
    "   3. 호출시 첫번째 인자로 반드시 self 가 전달된다.\n",
    "2. 클래스메서드\n",
    "   1. 인스턴스 변수를 사용할수 없다.\n",
    "   2. 호출시 첫번째 인자로 반드시 cls가 전달된다.\n",
    "3. 정적메서드(스태틱메서드)\n",
    "\n",
    "self : 인스턴스 자기 자신을 가리키는 인자  \n",
    "cls : 클래스를 가리키는 인자  "
   ]
  },
  {
   "cell_type": "code",
   "execution_count": 13,
   "metadata": {},
   "outputs": [
    {
     "name": "stdout",
     "output_type": "stream",
     "text": [
      "100\n",
      "110\n"
     ]
    }
   ],
   "source": [
    "class Car:\n",
    "\n",
    "    def __init__(self, speed):\n",
    "        self.speed = speed\n",
    "\n",
    "    def speed_up(self): # 첫번째 인자로 self 가 전달되었으니 인스턴스 메서드다!!!\n",
    "        self.speed += 10 # 인스턴스 변수를 변경할 수 있다.\n",
    "\n",
    "car1 = Car(100)\n",
    "car2 = Car(80)\n",
    "print(car1.speed)\n",
    "car1.speed_up() # car1 의 인스턴스 메서드호출\n",
    "print(car1.speed)\n",
    "\n",
    "my_list = [1,2,3]\n"
   ]
  },
  {
   "cell_type": "code",
   "execution_count": 17,
   "metadata": {},
   "outputs": [
    {
     "name": "stdout",
     "output_type": "stream",
     "text": [
      "<class 'list'>\n",
      "[1, 2, 3, 4]\n",
      "[4, 5, 6]\n"
     ]
    }
   ],
   "source": [
    "my_list = [1,2,3] # 독립된 인스턴스\n",
    "my_list2 = [4,5,6] # 독립된 인스턴스\n",
    "\n",
    "# my_list는 어떤 클래스에서 만들어진 것인가???\n",
    "print(type(my_list))\n",
    "\n",
    "my_list.append(4) # 인스턴스 메서드\n",
    "print(my_list)\n",
    "print(my_list2)"
   ]
  },
  {
   "cell_type": "markdown",
   "metadata": {},
   "source": [
    "## 클래스 메서드\n",
    "\n",
    "클래스가 사용하는 메서드  \n",
    "인스턴스 변수를 수정할수 없다.  \n",
    "첫번째 인자로 cls(클래스) 클래스 자신을 뜻하는 인자가 전달된다.  \n",
    "\n",
    "클래스 메서드로 만들고 싶은 메서드의 위에다가  \n",
    "@classmethod 데코레이터를 추가  \n"
   ]
  },
  {
   "cell_type": "code",
   "execution_count": 21,
   "metadata": {},
   "outputs": [
    {
     "name": "stdout",
     "output_type": "stream",
     "text": [
      "인구수는 3입니다.\n",
      "인구수는 3입니다.\n"
     ]
    }
   ],
   "source": [
    "class Person:\n",
    "    count = 0 # 클래스 변수\n",
    "\n",
    "    def __init__(self):\n",
    "        Person.count += 1 # Person 클래스를 통해서 인스턴스가 생성될 때마다\n",
    "        # 클래스 변수인 count가 1씩 증가한다.\n",
    "\n",
    "    @classmethod\n",
    "    def number_of_population(cls): # cls : 클래스를 뜻하는 인자\n",
    "        # 클래스 내부에있는 클래스 변수에 접근하기 위해서 cls를 전달받는다.\n",
    "        print(f\"인구수는 {cls.count}입니다.\")\n",
    "\n",
    "person1 = Person()\n",
    "person2 = Person()\n",
    "person3 = Person()\n",
    "\n",
    "# 클래스 메소드는 기본적으로 클래스 이름을 통해 호출한다.\n",
    "Person.number_of_population()\n",
    "\n",
    "# 물론, 인스턴스의 이름(변수 이름)을 통해서 호출이 가능한다.\n",
    "person1.number_of_population()\n",
    "\n"
   ]
  },
  {
   "cell_type": "markdown",
   "metadata": {},
   "source": [
    "## 클래스 메서드와 인스턴스 메서드의 차이\n",
    "\n",
    "- 클래스 메서드 : 클래스 변수를 사용가능하다, 인스턴스 변수는 사용 불가능\n",
    "- 인스턴스 메서드 : 클래스 변수도 사용가능하고, 인스턴스 변수도 사용가능"
   ]
  },
  {
   "cell_type": "markdown",
   "metadata": {},
   "source": [
    "## 스태틱메서드 (정적메서드)\n",
    "\n",
    "인스턴스변수, 클래스 변수 모두를 사용하지 않는 메서드  \n",
    "\n",
    "언제 사용하는가 ??  \n",
    "\n",
    "클래스의 속성을 아예 사용하지 않는 메서드를 정의할때 사용  \n",
    "\n",
    "@staticmethod 데코레이터를 사용해서 정의"
   ]
  },
  {
   "cell_type": "code",
   "execution_count": 24,
   "metadata": {},
   "outputs": [
    {
     "name": "stdout",
     "output_type": "stream",
     "text": [
      "빵빵\n",
      "빵빵\n"
     ]
    }
   ],
   "source": [
    "class Car:\n",
    "    tire = 4 # 클래스 변수\n",
    "\n",
    "    def __init__(self, name):\n",
    "        self.name = name # 인스턴스 변수\n",
    "\n",
    "    @staticmethod\n",
    "    def horn(): # cls, self 를 사용할수 없다.\n",
    "        print(\"빵빵\")\n",
    "\n",
    "car1 = Car(\"소나타\")\n",
    "\n",
    "# 인스턴스를 통해 호출\n",
    "car1.horn()\n",
    "# 클래스 이름을 통해 호출\n",
    "Car.horn()"
   ]
  },
  {
   "cell_type": "markdown",
   "metadata": {},
   "source": [
    "- 인스턴스 메서드 : self 매개변수를 통해 인스턴스 변수 수정 가능\n",
    "- 클래스 메서드 : cls 매개변수를 통해 클래스 변수 수정 가능\n",
    "- 스태틱 메서드 : 클래스 안에 있는 어떤 변수에도 접근 불가...\n",
    "  - 객체의 상태나 클래스의 상태를 변경할수 없는 메서드이다.\n",
    "  - 클래스 변수나 인스턴스 변수를 사용하지 않는 기능(메소드)를 만들때 사용"
   ]
  },
  {
   "cell_type": "markdown",
   "metadata": {},
   "source": [
    "## 객체지향의 핵심개념 4가지\n",
    "\n",
    "- 상추캐다\n",
    "- 상 : 상속 = 클래스의 자원을 재사용 할수 있도록 하는 기능\n",
    "- 추 : 추상화 = 복잡한것은 숨기고, 필요한것만 노출시킨다.\n",
    "- 캐 : 캡슐화 = 객체 내부의 정보(데이터) 들을 보호하기 위해 사용하는 방법\n",
    "- 다 : 다형성 = 똑같은 동작을 시키는데, 객체에 따라 그 동작 결과가 다르게 나오는 것"
   ]
  },
  {
   "cell_type": "code",
   "execution_count": null,
   "metadata": {},
   "outputs": [],
   "source": [
    "# 상속\n",
    "\n",
    "# 부모가 가지고 있던 것들을 내가 다시 만들필요 없이 처음부터 사용 가능하게 만들어주는것"
   ]
  },
  {
   "cell_type": "code",
   "execution_count": 30,
   "metadata": {},
   "outputs": [
    {
     "name": "stdout",
     "output_type": "stream",
     "text": [
      "안녕하세요~~\n",
      "안녕하세요~~\n"
     ]
    }
   ],
   "source": [
    "class Person:\n",
    "    def greeting(self):\n",
    "        print(\"안녕하세요~~\")\n",
    "\n",
    "class Student(Person): # Student 클래스는 Person 클래스의 기능들을 물려받는다.\n",
    "    pass\n",
    "\n",
    "person1 = Person()\n",
    "person1.greeting()\n",
    "student1 = Student()\n",
    "student1.greeting()"
   ]
  },
  {
   "cell_type": "markdown",
   "metadata": {},
   "source": [
    "## 다형성\n",
    "\n",
    "동일한 이름을 가진 메서드가 클래스(객체) 에 따라 다르게 동작하는것  \n",
    "메소드 오버라이딩(덮어쓰기)을 통해 구현한다.  "
   ]
  },
  {
   "cell_type": "code",
   "execution_count": 32,
   "metadata": {},
   "outputs": [
    {
     "name": "stdout",
     "output_type": "stream",
     "text": [
      "동물이 소리를 냅니다.\n",
      "멍멍\n",
      "야옹\n"
     ]
    }
   ],
   "source": [
    "class Animal:\n",
    "\n",
    "    def make_sound(self):\n",
    "        print(\"동물이 소리를 냅니다.\")\n",
    "\n",
    "class Cat(Animal): # Cat 클래스는 Animal 클래스의 기능을 물려받는다.\n",
    "\n",
    "    def make_sound(self):\n",
    "        print(\"야옹\")\n",
    "\n",
    "class Dog(Animal):\n",
    "\n",
    "    def make_sound(self):\n",
    "        print(\"멍멍\")\n",
    "\n",
    "animal1 = Animal()\n",
    "dog1 = Dog()\n",
    "cat1 = Cat()\n",
    "# 똑같은 기능을 가진 메소드를 실행했으나, 클래스에따라 그 결과가 다르게 나온다.\n",
    "# 다형성\n",
    "animal1.make_sound()\n",
    "dog1.make_sound()\n",
    "cat1.make_sound()"
   ]
  },
  {
   "cell_type": "markdown",
   "metadata": {},
   "source": [
    "## 캡슐화\n",
    "\n",
    "객체의 구현 내용에 대해서 외부로부터 직접적인 접근을 차단  \n",
    "내부의 정보를 보호  \n",
    "객체 내부에 숨기고 싶은 정보가 있을때 캡슐화  "
   ]
  },
  {
   "cell_type": "markdown",
   "metadata": {},
   "source": [
    "접근제어자  \n",
    "\n",
    "접근할수 있는 범위를 지정한다.  \n",
    "\n",
    "- public : 어디서나 호출 가능한 메서드, 변수\n",
    "- protected : 부모 자식 간에만 호출이 가능한 메서드 , 변수\n",
    "- private : 자기 자신만 호출이 가능한 메서드, 변수 외부에서는 절대로 접근이 불가능하다.\n",
    "\n",
    "private 한 변수는 ==> 캡슐화를 통해 보호한다.\n",
    "메서드를 통해 접근할수 있는 수단을 제공 :  \n",
    "불법적인 행위들, 프로그래머가 의도하지 않은 방향으로 데이터를 수정하려 할때, 그 행위들을  \n",
    "막기 위해서 private\n",
    "메서드를 통해 접근한다 : 프로그래머가 의도한 대로 수정할수 있도록 유도  \n",
    "\n",
    "getter / setter  \n",
    "getter : 변수에 접근 가능 하도록, 변수를 읽어주는 메서드\n",
    "- @property 데코레이터를 통해 선언\n",
    "setter : 변수를 수정 가능 하도록, 변수의 값을 설정하는 메서드 \n",
    "- @변수.setter 사용"
   ]
  },
  {
   "cell_type": "code",
   "execution_count": 40,
   "metadata": {},
   "outputs": [
    {
     "name": "stdout",
     "output_type": "stream",
     "text": [
      "김싸피\n",
      "박싸피\n",
      "박싸피\n"
     ]
    }
   ],
   "source": [
    "class Person:\n",
    "    def __init__(self, name): # name 이라는 변수를 외부에서 숨기고싶다.\n",
    "        self.__name = name # private\n",
    "\n",
    "    # getter\n",
    "    @property\n",
    "    def my_name(self):\n",
    "        return self.__name\n",
    "\n",
    "    # setter\n",
    "    @my_name.setter\n",
    "    def my_name(self, new_name):\n",
    "        if len(new_name) > 1:\n",
    "            self.__name = new_name\n",
    "\n",
    "person1 = Person(\"김싸피\")\n",
    "print(person1.my_name) # __name ==> my_name\n",
    "person1.my_name = \"박싸피\"\n",
    "print(person1.my_name)\n",
    "person1.my_name = \"홍\" \n",
    "print(person1.my_name)\n",
    "# print(person1.__name) # 외부에서 접근 불가능"
   ]
  },
  {
   "cell_type": "code",
   "execution_count": null,
   "metadata": {},
   "outputs": [],
   "source": []
  }
 ],
 "metadata": {
  "kernelspec": {
   "display_name": "Python 3.10.0 64-bit",
   "language": "python",
   "name": "python3"
  },
  "language_info": {
   "codemirror_mode": {
    "name": "ipython",
    "version": 3
   },
   "file_extension": ".py",
   "mimetype": "text/x-python",
   "name": "python",
   "nbconvert_exporter": "python",
   "pygments_lexer": "ipython3",
   "version": "3.10.0"
  },
  "orig_nbformat": 4,
  "vscode": {
   "interpreter": {
    "hash": "369f2c481f4da34e4445cda3fffd2e751bd1c4d706f27375911949ba6bb62e1c"
   }
  }
 },
 "nbformat": 4,
 "nbformat_minor": 2
}
